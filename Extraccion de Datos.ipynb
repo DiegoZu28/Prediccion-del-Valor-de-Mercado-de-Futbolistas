{
  "cells": [
    {
      "cell_type": "code",
      "execution_count": 1,
      "metadata": {
        "id": "Mg7IESmMiwea"
      },
      "outputs": [],
      "source": [
        "import pandas as pd\n",
        "import numpy as np\n",
        "import matplotlib.pyplot as plt\n",
        "import seaborn as sns"
      ]
    },
    {
      "cell_type": "code",
      "execution_count": 2,
      "metadata": {
        "id": "xj_3J8gPiwec"
      },
      "outputs": [],
      "source": [
        "# Poder mostrar todas las filas y columnas del dataframe\n",
        "pd.set_option('display.max_rows', None)\n",
        "pd.set_option('display.max_columns', None)"
      ]
    },
    {
      "cell_type": "markdown",
      "metadata": {
        "id": "Mh-YPlLTiwec"
      },
      "source": [
        "# Librerias para hacer WebScraping"
      ]
    },
    {
      "cell_type": "code",
      "execution_count": 3,
      "metadata": {
        "colab": {
          "base_uri": "https://localhost:8080/"
        },
        "id": "Mnu9FjQbi313",
        "outputId": "54d980cb-8cf2-48f2-b168-2b1ead742ccd"
      },
      "outputs": [
        {
          "name": "stdout",
          "output_type": "stream",
          "text": [
            "Requirement already satisfied: LanusStats in c:\\users\\diego\\anaconda3\\lib\\site-packages (1.7.6)\n",
            "Requirement already satisfied: pandas in c:\\users\\diego\\anaconda3\\lib\\site-packages (from LanusStats) (2.2.2)\n",
            "Requirement already satisfied: mplsoccer in c:\\users\\diego\\anaconda3\\lib\\site-packages (from LanusStats) (1.4.0)\n",
            "Requirement already satisfied: requests in c:\\users\\diego\\anaconda3\\lib\\site-packages (from LanusStats) (2.32.3)\n",
            "Requirement already satisfied: matplotlib in c:\\users\\diego\\anaconda3\\lib\\site-packages (from LanusStats) (3.9.2)\n",
            "Requirement already satisfied: numpy in c:\\users\\diego\\anaconda3\\lib\\site-packages (from LanusStats) (1.26.4)\n",
            "Requirement already satisfied: bs4 in c:\\users\\diego\\anaconda3\\lib\\site-packages (from LanusStats) (0.0.2)\n",
            "Requirement already satisfied: Pillow in c:\\users\\diego\\anaconda3\\lib\\site-packages (from LanusStats) (10.4.0)\n",
            "Requirement already satisfied: beautifulsoup4 in c:\\users\\diego\\anaconda3\\lib\\site-packages (from bs4->LanusStats) (4.12.3)\n",
            "Requirement already satisfied: contourpy>=1.0.1 in c:\\users\\diego\\anaconda3\\lib\\site-packages (from matplotlib->LanusStats) (1.2.0)\n",
            "Requirement already satisfied: cycler>=0.10 in c:\\users\\diego\\anaconda3\\lib\\site-packages (from matplotlib->LanusStats) (0.11.0)\n",
            "Requirement already satisfied: fonttools>=4.22.0 in c:\\users\\diego\\anaconda3\\lib\\site-packages (from matplotlib->LanusStats) (4.51.0)\n",
            "Requirement already satisfied: kiwisolver>=1.3.1 in c:\\users\\diego\\anaconda3\\lib\\site-packages (from matplotlib->LanusStats) (1.4.4)\n",
            "Requirement already satisfied: packaging>=20.0 in c:\\users\\diego\\anaconda3\\lib\\site-packages (from matplotlib->LanusStats) (24.1)\n",
            "Requirement already satisfied: pyparsing>=2.3.1 in c:\\users\\diego\\anaconda3\\lib\\site-packages (from matplotlib->LanusStats) (3.1.2)\n",
            "Requirement already satisfied: python-dateutil>=2.7 in c:\\users\\diego\\anaconda3\\lib\\site-packages (from matplotlib->LanusStats) (2.9.0.post0)\n",
            "Requirement already satisfied: scipy in c:\\users\\diego\\anaconda3\\lib\\site-packages (from mplsoccer->LanusStats) (1.13.1)\n",
            "Requirement already satisfied: seaborn in c:\\users\\diego\\anaconda3\\lib\\site-packages (from mplsoccer->LanusStats) (0.13.2)\n",
            "Requirement already satisfied: pytz>=2020.1 in c:\\users\\diego\\anaconda3\\lib\\site-packages (from pandas->LanusStats) (2024.1)\n",
            "Requirement already satisfied: tzdata>=2022.7 in c:\\users\\diego\\anaconda3\\lib\\site-packages (from pandas->LanusStats) (2023.3)\n",
            "Requirement already satisfied: charset-normalizer<4,>=2 in c:\\users\\diego\\anaconda3\\lib\\site-packages (from requests->LanusStats) (3.3.2)\n",
            "Requirement already satisfied: idna<4,>=2.5 in c:\\users\\diego\\anaconda3\\lib\\site-packages (from requests->LanusStats) (3.7)\n",
            "Requirement already satisfied: urllib3<3,>=1.21.1 in c:\\users\\diego\\anaconda3\\lib\\site-packages (from requests->LanusStats) (2.2.3)\n",
            "Requirement already satisfied: certifi>=2017.4.17 in c:\\users\\diego\\anaconda3\\lib\\site-packages (from requests->LanusStats) (2025.1.31)\n",
            "Requirement already satisfied: six>=1.5 in c:\\users\\diego\\anaconda3\\lib\\site-packages (from python-dateutil>=2.7->matplotlib->LanusStats) (1.16.0)\n",
            "Requirement already satisfied: soupsieve>1.2 in c:\\users\\diego\\anaconda3\\lib\\site-packages (from beautifulsoup4->bs4->LanusStats) (2.5)\n",
            "Note: you may need to restart the kernel to use updated packages.\n"
          ]
        }
      ],
      "source": [
        "pip install LanusStats"
      ]
    },
    {
      "cell_type": "code",
      "execution_count": 4,
      "metadata": {
        "id": "x8DiWiPfiwed"
      },
      "outputs": [],
      "source": [
        "import LanusStats as ls"
      ]
    },
    {
      "cell_type": "code",
      "execution_count": 5,
      "metadata": {
        "id": "Jo39DD8Ciwee"
      },
      "outputs": [],
      "source": [
        "fbref = ls.Fbref()\n",
        "transfermarkt = ls.Transfermarkt()"
      ]
    },
    {
      "cell_type": "code",
      "execution_count": 6,
      "metadata": {
        "colab": {
          "base_uri": "https://localhost:8080/"
        },
        "id": "yWE-yLz9iwee",
        "outputId": "b6bad202-bf34-4a55-d08a-245053df77e7"
      },
      "outputs": [
        {
          "data": {
            "text/plain": [
              "['Copa de la Liga',\n",
              " 'Primera Division Argentina',\n",
              " 'Primera Division Uruguay',\n",
              " 'Brasileirao',\n",
              " 'Brasileirao B',\n",
              " 'Primera Division Colombia',\n",
              " 'Primera Division Chile',\n",
              " 'Primera Division Peru',\n",
              " 'Primera Division Venezuela',\n",
              " 'Primera Division Ecuador',\n",
              " 'Primera Division Bolivia',\n",
              " 'Primera Division Paraguay',\n",
              " 'Brasileirao F',\n",
              " 'MLS',\n",
              " 'USL Championship',\n",
              " 'Premier League',\n",
              " 'La Liga',\n",
              " 'Ligue 1',\n",
              " 'Bundesliga',\n",
              " 'Serie A',\n",
              " 'Big 5 European Leagues',\n",
              " 'Danish Superliga',\n",
              " 'Eredivise',\n",
              " 'Primeira Liga Portugal',\n",
              " 'Copa America',\n",
              " 'Euros',\n",
              " 'Saudi League',\n",
              " 'EFL Championship',\n",
              " 'La Liga 2',\n",
              " 'Belgian Pro League',\n",
              " 'Challenger Pro League',\n",
              " '2. Bundesliga',\n",
              " 'Ligue 2',\n",
              " 'Serie B',\n",
              " 'J1 League',\n",
              " 'NSWL',\n",
              " 'Wowens Super League',\n",
              " 'Liga F',\n",
              " 'Premier Division South Africa',\n",
              " 'Champions League',\n",
              " 'Europa League',\n",
              " 'Conference League',\n",
              " 'Copa Libertadores',\n",
              " 'Liga MX']"
            ]
          },
          "execution_count": 6,
          "metadata": {},
          "output_type": "execute_result"
        }
      ],
      "source": [
        "ls.get_available_leagues(\"Fbref\")"
      ]
    },
    {
      "cell_type": "code",
      "execution_count": 7,
      "metadata": {
        "id": "Lig4E3QViwef"
      },
      "outputs": [],
      "source": [
        "cinco_grandes_ligas = [\"Premier League\", \"La Liga\", \"Serie A\", \"Bundesliga\", \"Ligue 1\"]\n",
        "temporadas = []\n",
        "for i in range(2023, 2024):\n",
        "    temporadas.append(f\"{i}-{i+1}\")"
      ]
    },
    {
      "cell_type": "code",
      "execution_count": 8,
      "metadata": {
        "id": "vTkrzrATiwef"
      },
      "outputs": [],
      "source": [
        "PremierLeague_id_Equipo = {\"Arsenal FC\":11, \"Aston Villa\":405, \"AFC Bournemouth\":989, \"Brentford FC\":1148, \"Brighton & Hove Albion\":1237, \"Chelsea FC\":631, \"Crystal Palace\":873, \"Everton FC\":29, \"Fulham FC\":931, \"Ipswich Town\":677, \"Leicester City\":1003, \"Liverpool FC\":31, \"Manchester City\":281, \"Manchester United\":985, \"Newcastle United\":762, \"Nottingham Forest\":703, \"Southampton FC\":180, \"Tottenham Hotspur\":148, \"West Ham United\":379, \"Wolverhampton Wanderers\":543}"
      ]
    },
    {
      "cell_type": "code",
      "execution_count": 9,
      "metadata": {
        "id": "V1_KccVaiwef"
      },
      "outputs": [],
      "source": [
        "Bundeslisga_id_Equipo = {\"Bayer 04 Leverkusen\":15, \"VfB Stuttgart\":79, \"Bayern Múnich\":27, \"RB Leipzig\":23826, \"Borussia Dortmund\":16, \"Eintracht Fráncfort​​\":24, \"TSG 1899 Hoffenheim\":533, \"1.FC Heidenheim 1846\":2036, \"SV Werder Bremen\":86, \"SC Friburgo\":60, \"FC Augsburgo\":167, \"VfL Wolfsburgo\":82, \"1.FSV Mainz 05\":39, \"Borussia Mönchengladbach\":18, \"1.FC Unión Berlín\":89, \"VfL Bochum\":80, \"FC St. Pauli\":35, \"Holstein Kiel\":269}\n"
      ]
    },
    {
      "cell_type": "code",
      "execution_count": 10,
      "metadata": {
        "id": "RbeXN5NRiweg"
      },
      "outputs": [],
      "source": [
        "SerieA_id_Equipo = {\"Inter de Milán\":46, \"AC Milan\":5, \"Juventus de Turín\":506, \"Atalanta de Bérgamo\":800, \"Bolonia\":1025, \"AS Roma\":12, \"SS Lazio\":398, \"Fiorentina\":430, \"Torino FC\":416, \"SSC Nápoles\":6195, \"Génova\":252, \"AC Monza\":2919, \"Hellas Verona\":276, \"US Lecce\":1005, \"Udinese\":410, \"Cagliari\":1390, \"Empoli FC\":749, \"Parma\":130, \"Como 1907\":1047, \"Venezia FC\":607}\n"
      ]
    },
    {
      "cell_type": "code",
      "execution_count": 11,
      "metadata": {
        "id": "El9ksCJliweg"
      },
      "outputs": [],
      "source": [
        "Ligue1_id_Equipo = {\"París Saint-Germain FC\":583, \"AS Mónaco\":162, \"Stade Brestois 29\":3911, \"LOSC Lille\":1082, \"OGC Niza\":417, \"Olympique de Lyon\":1041, \"RC Lens\":826, \"Olympique de Marsella\":244, \"Stade de Reims\":1421, \"Stade Rennais FC\":273, \"Toulouse FC\":415, \"Montpellier HSC\":969, \"Racing Club de Estrasburgo\":667, \"FC Nantes\":995, \"Le Havre AC\":738, \"AJ Auxerre\":290, \"Angers SCO\":1420, \"AS Saint-Étienne\":618}\n"
      ]
    },
    {
      "cell_type": "code",
      "execution_count": 12,
      "metadata": {
        "colab": {
          "base_uri": "https://localhost:8080/"
        },
        "id": "F0vsY1JIiweg",
        "outputId": "73d1149e-eb3e-4984-8a27-5ef292a23b9f"
      },
      "outputs": [
        {
          "data": {
            "text/plain": [
              "{'Atlético de Madrid': 13,\n",
              " 'FC Barcelona': 131,\n",
              " 'Real Madrid CF': 418,\n",
              " 'Real Betis Balompié': 150,\n",
              " 'Sevilla FC': 368,\n",
              " 'CA Osasuna': 331,\n",
              " 'Real Sociedad': 681,\n",
              " 'Athletic Club': 621,\n",
              " 'Deportivo Alavés': 1108,\n",
              " 'RC Celta de Vigo': 940,\n",
              " 'Valencia CF': 1049,\n",
              " 'Villareal CF': 1050,\n",
              " 'Getafe CF': 3709,\n",
              " 'Rayo Vallecano': 367,\n",
              " 'RCD Mallorca': 237,\n",
              " 'UD Las Palmas': 472,\n",
              " 'Girona FC': 12321,\n",
              " 'Real Valladolid CF': 366,\n",
              " 'CD Leganés': 1244,\n",
              " 'RCD Espanyol': 714}"
            ]
          },
          "execution_count": 12,
          "metadata": {},
          "output_type": "execute_result"
        }
      ],
      "source": [
        "LaLiga_Equipo = [\"Atlético de Madrid\", \"FC Barcelona\", \"Real Madrid CF\", \"Real Betis Balompié\", \"Sevilla FC\", \"CA Osasuna\", \"Real Sociedad\", \"Athletic Club\", \"Deportivo Alavés\", \"RC Celta de Vigo\", \"Valencia CF\", \"Villareal CF\", \"Getafe CF\", \"Rayo Vallecano\", \"RCD Mallorca\", \"UD Las Palmas\", \"Girona FC\", \"Real Valladolid CF\", \"CD Leganés\", \"RCD Espanyol\"]\n",
        "LaLiga_Equipo_id = [13, 131, 418, 150, 368, 331, 681, 621, 1108, 940, 1049, 1050, 3709, 367, 237, 472, 12321, 366, 1244, 714]\n",
        "LaLiga_id_equipo = dict(zip(LaLiga_Equipo, LaLiga_Equipo_id))\n",
        "LaLiga_id_equipo"
      ]
    },
    {
      "cell_type": "code",
      "execution_count": 13,
      "metadata": {
        "colab": {
          "base_uri": "https://localhost:8080/"
        },
        "id": "kWxbhlg3iweg",
        "outputId": "f97bb73c-b80c-41c5-fe54-c0270e4d6b3e"
      },
      "outputs": [
        {
          "data": {
            "text/plain": [
              "96"
            ]
          },
          "execution_count": 13,
          "metadata": {},
          "output_type": "execute_result"
        }
      ],
      "source": [
        "Equipos_id = {}\n",
        "Equipos_id.update(PremierLeague_id_Equipo)\n",
        "Equipos_id.update(Bundeslisga_id_Equipo)\n",
        "Equipos_id.update(SerieA_id_Equipo)\n",
        "Equipos_id.update(Ligue1_id_Equipo)\n",
        "Equipos_id.update(LaLiga_id_equipo)\n",
        "Equipos_id.__len__()"
      ]
    },
    {
      "cell_type": "code",
      "execution_count": 14,
      "metadata": {
        "colab": {
          "base_uri": "https://localhost:8080/"
        },
        "id": "c7CiIq0GjCl5",
        "outputId": "a94c1870-6668-4e72-f6aa-fb8917598c66"
      },
      "outputs": [
        {
          "data": {
            "text/plain": [
              "{'Arsenal FC': 11,\n",
              " 'Aston Villa': 405,\n",
              " 'AFC Bournemouth': 989,\n",
              " 'Brentford FC': 1148,\n",
              " 'Brighton & Hove Albion': 1237,\n",
              " 'Chelsea FC': 631,\n",
              " 'Crystal Palace': 873,\n",
              " 'Everton FC': 29,\n",
              " 'Fulham FC': 931,\n",
              " 'Ipswich Town': 677,\n",
              " 'Leicester City': 1003,\n",
              " 'Liverpool FC': 31,\n",
              " 'Manchester City': 281,\n",
              " 'Manchester United': 985,\n",
              " 'Newcastle United': 762,\n",
              " 'Nottingham Forest': 703,\n",
              " 'Southampton FC': 180,\n",
              " 'Tottenham Hotspur': 148,\n",
              " 'West Ham United': 379,\n",
              " 'Wolverhampton Wanderers': 543,\n",
              " 'Bayer 04 Leverkusen': 15,\n",
              " 'VfB Stuttgart': 79,\n",
              " 'Bayern Múnich': 27,\n",
              " 'RB Leipzig': 23826,\n",
              " 'Borussia Dortmund': 16,\n",
              " 'Eintracht Fráncfort\\u200b\\u200b': 24,\n",
              " 'TSG 1899 Hoffenheim': 533,\n",
              " '1.FC Heidenheim 1846': 2036,\n",
              " 'SV Werder Bremen': 86,\n",
              " 'SC Friburgo': 60,\n",
              " 'FC Augsburgo': 167,\n",
              " 'VfL Wolfsburgo': 82,\n",
              " '1.FSV Mainz 05': 39,\n",
              " 'Borussia Mönchengladbach': 18,\n",
              " '1.FC Unión Berlín': 89,\n",
              " 'VfL Bochum': 80,\n",
              " 'FC St. Pauli': 35,\n",
              " 'Holstein Kiel': 269,\n",
              " 'Inter de Milán': 46,\n",
              " 'AC Milan': 5,\n",
              " 'Juventus de Turín': 506,\n",
              " 'Atalanta de Bérgamo': 800,\n",
              " 'Bolonia': 1025,\n",
              " 'AS Roma': 12,\n",
              " 'SS Lazio': 398,\n",
              " 'Fiorentina': 430,\n",
              " 'Torino FC': 416,\n",
              " 'SSC Nápoles': 6195,\n",
              " 'Génova': 252,\n",
              " 'AC Monza': 2919,\n",
              " 'Hellas Verona': 276,\n",
              " 'US Lecce': 1005,\n",
              " 'Udinese': 410,\n",
              " 'Cagliari': 1390,\n",
              " 'Empoli FC': 749,\n",
              " 'Parma': 130,\n",
              " 'Como 1907': 1047,\n",
              " 'Venezia FC': 607,\n",
              " 'París Saint-Germain FC': 583,\n",
              " 'AS Mónaco': 162,\n",
              " 'Stade Brestois 29': 3911,\n",
              " 'LOSC Lille': 1082,\n",
              " 'OGC Niza': 417,\n",
              " 'Olympique de Lyon': 1041,\n",
              " 'RC Lens': 826,\n",
              " 'Olympique de Marsella': 244,\n",
              " 'Stade de Reims': 1421,\n",
              " 'Stade Rennais FC': 273,\n",
              " 'Toulouse FC': 415,\n",
              " 'Montpellier HSC': 969,\n",
              " 'Racing Club de Estrasburgo': 667,\n",
              " 'FC Nantes': 995,\n",
              " 'Le Havre AC': 738,\n",
              " 'AJ Auxerre': 290,\n",
              " 'Angers SCO': 1420,\n",
              " 'AS Saint-Étienne': 618,\n",
              " 'Atlético de Madrid': 13,\n",
              " 'FC Barcelona': 131,\n",
              " 'Real Madrid CF': 418,\n",
              " 'Real Betis Balompié': 150,\n",
              " 'Sevilla FC': 368,\n",
              " 'CA Osasuna': 331,\n",
              " 'Real Sociedad': 681,\n",
              " 'Athletic Club': 621,\n",
              " 'Deportivo Alavés': 1108,\n",
              " 'RC Celta de Vigo': 940,\n",
              " 'Valencia CF': 1049,\n",
              " 'Villareal CF': 1050,\n",
              " 'Getafe CF': 3709,\n",
              " 'Rayo Vallecano': 367,\n",
              " 'RCD Mallorca': 237,\n",
              " 'UD Las Palmas': 472,\n",
              " 'Girona FC': 12321,\n",
              " 'Real Valladolid CF': 366,\n",
              " 'CD Leganés': 1244,\n",
              " 'RCD Espanyol': 714}"
            ]
          },
          "execution_count": 14,
          "metadata": {},
          "output_type": "execute_result"
        }
      ],
      "source": [
        "Equipos_id"
      ]
    },
    {
      "cell_type": "markdown",
      "metadata": {
        "id": "fX9VCQEbiweg"
      },
      "source": [
        "# Creamos una clase para obtener la información con la que vamos a trabajar"
      ]
    },
    {
      "cell_type": "code",
      "execution_count": 15,
      "metadata": {
        "id": "cvNv62Xhiweh"
      },
      "outputs": [],
      "source": [
        "class jugadores:\n",
        "\n",
        "    def __init__(self, temporada, competicion):\n",
        "        self.temporada = temporada\n",
        "        self.competicion = competicion\n",
        "\n",
        "    def get_jugadores(self):\n",
        "        self.jugadores = fbref.get_player_season_stats('gca', self.competicion, season = self.temporada, save_csv=False, add_page_name=False)\n",
        "        posiciones = list(self.jugadores[\"Pos\"].unique())\n",
        "        self.lista_delanteros = []\n",
        "        for i in posiciones:\n",
        "            if \"FW\" in i:\n",
        "                self.lista_delanteros.append(i)\n",
        "            else:\n",
        "                pass\n",
        "        return self.jugadores\n",
        "\n",
        "    def get_delanteros(self):\n",
        "        self.delanteros = self.jugadores[self.jugadores[\"Pos\"].isin(self.lista_delanteros)]\n",
        "        return self.delanteros\n",
        "\n",
        "    def variables_numericas(self):\n",
        "        variables_numericas = [\"Age\", \"Born\", \"90s\", \"SCA\", \"SCA90\", \"PassLive\", \"PassDead\", 'TO', 'Sh', 'Fld', 'Def', 'GCA','GCA90', 'PassLive', 'PassDead', 'TO', 'Sh', 'Fld', 'Def']\n",
        "        for i in variables_numericas:\n",
        "            self.delanteros[i] = self.delanteros[i].astype(float)\n",
        "        for i in self.delanteros.columns:\n",
        "            if i not in variables_numericas + [\"Player\"] + [\"Squad\"]:\n",
        "                self.delanteros = self.delanteros.drop(i, axis = 1)\n",
        "\n",
        "        # eliminar acentos de los nombres de los jugadores\n",
        "        self.delanteros[\"Player\"] = self.delanteros[\"Player\"].str.normalize('NFKD').str.encode('ascii', errors='ignore').str.decode('utf-8')\n",
        "        return self.delanteros\n",
        "\n",
        "# class Precios_jugadores:\n",
        "#     def __init__(self, temporada, equipo, equipo_id):\n",
        "#         self.temporada = temporada\n",
        "#         self.equipo = equipo\n",
        "#         self.equipo_id = equipo_id\n",
        "\n",
        "#     def get_precio(self):\n",
        "#         self.precio_equipo = transfermarkt.scrape_players_for_teams(team_name = self.equipo, team_id = self.equipo_id, season = self.temporada)\n",
        "#         return self.precio_equipo\n",
        "\n",
        "class Precios_jugadores:\n",
        "    def __init__(self, temporada, equipo, equipo_id):\n",
        "        self.temporada = temporada\n",
        "        self.equipo = equipo\n",
        "        self.equipo_id = equipo_id\n",
        "\n",
        "    def get_precio(self):\n",
        "        try:\n",
        "            \n",
        "            self.precio_equipo = transfermarkt.scrape_players_for_teams(\n",
        "                team_name=self.equipo, team_id=self.equipo_id, season=self.temporada\n",
        "            )\n",
        "        except AttributeError as e:\n",
        "            \n",
        "            print(f\"Error en el equipo: {self.equipo} ({self.equipo_id}) temporada: {self.temporada}: {e}\")\n",
        "            self.precio_equipo = pd.DataFrame()\n",
        "\n",
        "        return self.precio_equipo\n",
        "\n",
        "\n"
      ]
    },
    {
      "cell_type": "code",
      "execution_count": 16,
      "metadata": {
        "id": "VDJgaWqbiweh"
      },
      "outputs": [],
      "source": [
        "def limpiar_data(dataframe):\n",
        "    dataframe = dataframe.drop(columns=[\"#\", \"Posicion\", \"Fecha de nac.\", \"Fichado\", \"Pais\", \"Seg nacionalidad\", \"equipo\", \"Año nac.\"])\n",
        "    dataframe = dataframe.rename(columns={\"Jugadores\": \"Player\", \"Altura\": \"Altura\", \"Pie\": \"Pie\", \"Valor de mercado\": \"Valor de mercado\"})\n",
        "    dataframe[\"Player\"] = dataframe[\"Player\"].str.normalize('NFKD').str.encode('ascii', errors='ignore').str.decode('utf-8')\n",
        "    return dataframe\n",
        "\n",
        "def limpiar_data_2(dataframe):\n",
        "    # Reemplazar \",\" por \".\"\n",
        "    dataframe[\"Valor de mercado\"] = dataframe[\"Valor de mercado\"].str.replace(\",\", \".\")\n",
        "    # Reemplazar \"mill. €\" por \"\"\n",
        "    for i in range(dataframe.shape[0]):\n",
        "        if \"mill. €\" in dataframe[\"Valor de mercado\"][i]:\n",
        "            dataframe.loc[i, \"Valor de mercado\"] = dataframe.loc[i, \"Valor de mercado\"].replace(\"mill. €\", \"\")\n",
        "    # Reemplazar \"mil \" dividiendo por 1000\n",
        "\n",
        "    for j in range(dataframe.shape[0]):\n",
        "        if \"mil €\" in dataframe[\"Valor de mercado\"][j]:\n",
        "            dataframe.loc[j, \"Valor de mercado\"] = dataframe.loc[j, \"Valor de mercado\"].replace(\"mil €\", \"\")\n",
        "            dataframe.loc[j, \"Valor de mercado\"] = float(dataframe.loc[j, \"Valor de mercado\"]) / 1000\n",
        "    # Reemplazar \"-\" por 0\n",
        "    dataframe[\"Valor de mercado\"] = dataframe[\"Valor de mercado\"].replace(\"-\", 0)\n",
        "    dataframe.drop_duplicates(inplace = True)\n",
        "    return dataframe"
      ]
    },
    {
      "cell_type": "code",
      "execution_count": 17,
      "metadata": {
        "colab": {
          "base_uri": "https://localhost:8080/"
        },
        "id": "lqbp3dI1iweh",
        "outputId": "62948472-7694-46df-d4b3-b6a91a7ed9c2"
      },
      "outputs": [
        {
          "name": "stdout",
          "output_type": "stream",
          "text": [
            "*****Competición: Premier League - Temporada: 2023-2024*****\n",
            "Starting to scrape player data from Fbref...\n",
            "*****Competición: La Liga - Temporada: 2023-2024*****\n",
            "Starting to scrape player data from Fbref...\n",
            "*****Competición: Serie A - Temporada: 2023-2024*****\n",
            "Starting to scrape player data from Fbref...\n",
            "*****Competición: Bundesliga - Temporada: 2023-2024*****\n",
            "Starting to scrape player data from Fbref...\n",
            "*****Competición: Ligue 1 - Temporada: 2023-2024*****\n",
            "Starting to scrape player data from Fbref...\n",
            "*****Equipo: Arsenal FC - Temporada: 2024*****\n",
            "['#', 'Jugadores', 'F. Nacim./Edad', 'Nac.', 'Club actual', 'Altura', 'Pie', 'Fichado', 'antes', 'Valor de mercado', 'Pais', 'Seg nacionalidad']\n",
            "*****Equipo: Aston Villa - Temporada: 2024*****\n",
            "['#', 'Jugadores', 'F. Nacim./Edad', 'Nac.', 'Club actual', 'Altura', 'Pie', 'Fichado', 'antes', 'Valor de mercado', 'Pais', 'Seg nacionalidad']\n",
            "*****Equipo: AFC Bournemouth - Temporada: 2024*****\n",
            "['#', 'Jugadores', 'F. Nacim./Edad', 'Nac.', 'Club actual', 'Altura', 'Pie', 'Fichado', 'antes', 'Valor de mercado', 'Pais', 'Seg nacionalidad']\n",
            "*****Equipo: Brentford FC - Temporada: 2024*****\n",
            "['#', 'Jugadores', 'F. Nacim./Edad', 'Nac.', 'Club actual', 'Altura', 'Pie', 'Fichado', 'antes', 'Valor de mercado', 'Pais', 'Seg nacionalidad']\n",
            "*****Equipo: Brighton & Hove Albion - Temporada: 2024*****\n",
            "Error en el equipo: Brighton & Hove Albion (1237) temporada: 2024: 'NoneType' object has no attribute 'find'\n",
            "*****Equipo: Chelsea FC - Temporada: 2024*****\n",
            "['#', 'Jugadores', 'F. Nacim./Edad', 'Nac.', 'Club actual', 'Altura', 'Pie', 'Fichado', 'antes', 'Valor de mercado', 'Pais', 'Seg nacionalidad']\n",
            "*****Equipo: Crystal Palace - Temporada: 2024*****\n",
            "['#', 'Jugadores', 'F. Nacim./Edad', 'Nac.', 'Club actual', 'Altura', 'Pie', 'Fichado', 'antes', 'Valor de mercado', 'Pais', 'Seg nacionalidad']\n",
            "*****Equipo: Everton FC - Temporada: 2024*****\n",
            "['#', 'Jugadores', 'F. Nacim./Edad', 'Nac.', 'Club actual', 'Altura', 'Pie', 'Fichado', 'antes', 'Valor de mercado', 'Pais', 'Seg nacionalidad']\n",
            "*****Equipo: Fulham FC - Temporada: 2024*****\n",
            "['#', 'Jugadores', 'F. Nacim./Edad', 'Nac.', 'Club actual', 'Altura', 'Pie', 'Fichado', 'antes', 'Valor de mercado', 'Pais', 'Seg nacionalidad']\n",
            "*****Equipo: Ipswich Town - Temporada: 2024*****\n",
            "['#', 'Jugadores', 'F. Nacim./Edad', 'Nac.', 'Club actual', 'Altura', 'Pie', 'Fichado', 'antes', 'Valor de mercado', 'Pais', 'Seg nacionalidad']\n",
            "*****Equipo: Leicester City - Temporada: 2024*****\n",
            "Error en el equipo: Leicester City (1003) temporada: 2024: 'NoneType' object has no attribute 'find'\n",
            "*****Equipo: Liverpool FC - Temporada: 2024*****\n",
            "['#', 'Jugadores', 'F. Nacim./Edad', 'Nac.', 'Club actual', 'Altura', 'Pie', 'Fichado', 'antes', 'Valor de mercado', 'Pais', 'Seg nacionalidad']\n",
            "*****Equipo: Manchester City - Temporada: 2024*****\n",
            "['#', 'Jugadores', 'F. Nacim./Edad', 'Nac.', 'Club actual', 'Altura', 'Pie', 'Fichado', 'antes', 'Valor de mercado', 'Pais', 'Seg nacionalidad']\n",
            "*****Equipo: Manchester United - Temporada: 2024*****\n",
            "Error en el equipo: Manchester United (985) temporada: 2024: 'NoneType' object has no attribute 'find'\n",
            "*****Equipo: Newcastle United - Temporada: 2024*****\n",
            "Error en el equipo: Newcastle United (762) temporada: 2024: 'NoneType' object has no attribute 'find'\n",
            "*****Equipo: Nottingham Forest - Temporada: 2024*****\n",
            "Error en el equipo: Nottingham Forest (703) temporada: 2024: 'NoneType' object has no attribute 'find'\n",
            "*****Equipo: Southampton FC - Temporada: 2024*****\n",
            "['#', 'Jugadores', 'F. Nacim./Edad', 'Nac.', 'Club actual', 'Altura', 'Pie', 'Fichado', 'antes', 'Valor de mercado', 'Pais', 'Seg nacionalidad']\n",
            "*****Equipo: Tottenham Hotspur - Temporada: 2024*****\n",
            "Error en el equipo: Tottenham Hotspur (148) temporada: 2024: 'NoneType' object has no attribute 'find'\n",
            "*****Equipo: West Ham United - Temporada: 2024*****\n",
            "Error en el equipo: West Ham United (379) temporada: 2024: 'NoneType' object has no attribute 'find'\n",
            "*****Equipo: Wolverhampton Wanderers - Temporada: 2024*****\n",
            "['#', 'Jugadores', 'F. Nacim./Edad', 'Nac.', 'Club actual', 'Altura', 'Pie', 'Fichado', 'antes', 'Valor de mercado', 'Pais', 'Seg nacionalidad']\n",
            "*****Equipo: Bayer 04 Leverkusen - Temporada: 2024*****\n",
            "Error en el equipo: Bayer 04 Leverkusen (15) temporada: 2024: 'NoneType' object has no attribute 'find'\n",
            "*****Equipo: VfB Stuttgart - Temporada: 2024*****\n",
            "Error en el equipo: VfB Stuttgart (79) temporada: 2024: 'NoneType' object has no attribute 'find'\n",
            "*****Equipo: Bayern Múnich - Temporada: 2024*****\n",
            "['#', 'Jugadores', 'F. Nacim./Edad', 'Nac.', 'Club actual', 'Altura', 'Pie', 'Fichado', 'antes', 'Valor de mercado', 'Pais', 'Seg nacionalidad']\n",
            "*****Equipo: RB Leipzig - Temporada: 2024*****\n",
            "Error en el equipo: RB Leipzig (23826) temporada: 2024: 'NoneType' object has no attribute 'find'\n",
            "*****Equipo: Borussia Dortmund - Temporada: 2024*****\n",
            "['#', 'Jugadores', 'F. Nacim./Edad', 'Nac.', 'Club actual', 'Altura', 'Pie', 'Fichado', 'antes', 'Valor de mercado', 'Pais', 'Seg nacionalidad']\n",
            "*****Equipo: Eintracht Fráncfort​​ - Temporada: 2024*****\n",
            "Error en el equipo: Eintracht Fráncfort​​ (24) temporada: 2024: 'NoneType' object has no attribute 'find'\n",
            "*****Equipo: TSG 1899 Hoffenheim - Temporada: 2024*****\n",
            "Error en el equipo: TSG 1899 Hoffenheim (533) temporada: 2024: 'NoneType' object has no attribute 'find'\n",
            "*****Equipo: 1.FC Heidenheim 1846 - Temporada: 2024*****\n",
            "Error en el equipo: 1.FC Heidenheim 1846 (2036) temporada: 2024: 'NoneType' object has no attribute 'find'\n",
            "*****Equipo: SV Werder Bremen - Temporada: 2024*****\n",
            "['#', 'Jugadores', 'F. Nacim./Edad', 'Nac.', 'Club actual', 'Altura', 'Pie', 'Fichado', 'antes', 'Valor de mercado', 'Pais', 'Seg nacionalidad']\n",
            "*****Equipo: SC Friburgo - Temporada: 2024*****\n",
            "Error en el equipo: SC Friburgo (60) temporada: 2024: 'NoneType' object has no attribute 'find'\n",
            "*****Equipo: FC Augsburgo - Temporada: 2024*****\n",
            "Error en el equipo: FC Augsburgo (167) temporada: 2024: 'NoneType' object has no attribute 'find'\n",
            "*****Equipo: VfL Wolfsburgo - Temporada: 2024*****\n",
            "Error en el equipo: VfL Wolfsburgo (82) temporada: 2024: 'NoneType' object has no attribute 'find'\n",
            "*****Equipo: 1.FSV Mainz 05 - Temporada: 2024*****\n",
            "Error en el equipo: 1.FSV Mainz 05 (39) temporada: 2024: 'NoneType' object has no attribute 'find'\n",
            "*****Equipo: Borussia Mönchengladbach - Temporada: 2024*****\n",
            "Error en el equipo: Borussia Mönchengladbach (18) temporada: 2024: 'NoneType' object has no attribute 'find'\n",
            "*****Equipo: 1.FC Unión Berlín - Temporada: 2024*****\n",
            "Error en el equipo: 1.FC Unión Berlín (89) temporada: 2024: 'NoneType' object has no attribute 'find'\n",
            "*****Equipo: VfL Bochum - Temporada: 2024*****\n",
            "Error en el equipo: VfL Bochum (80) temporada: 2024: 'NoneType' object has no attribute 'find'\n",
            "*****Equipo: FC St. Pauli - Temporada: 2024*****\n",
            "Error en el equipo: FC St. Pauli (35) temporada: 2024: 'NoneType' object has no attribute 'find'\n",
            "*****Equipo: Holstein Kiel - Temporada: 2024*****\n",
            "Error en el equipo: Holstein Kiel (269) temporada: 2024: 'NoneType' object has no attribute 'find'\n",
            "*****Equipo: Inter de Milán - Temporada: 2024*****\n",
            "Error en el equipo: Inter de Milán (46) temporada: 2024: 'NoneType' object has no attribute 'find'\n",
            "*****Equipo: AC Milan - Temporada: 2024*****\n",
            "['#', 'Jugadores', 'F. Nacim./Edad', 'Nac.', 'Club actual', 'Altura', 'Pie', 'Fichado', 'antes', 'Valor de mercado', 'Pais', 'Seg nacionalidad']\n",
            "*****Equipo: Juventus de Turín - Temporada: 2024*****\n",
            "Error en el equipo: Juventus de Turín (506) temporada: 2024: 'NoneType' object has no attribute 'find'\n",
            "*****Equipo: Atalanta de Bérgamo - Temporada: 2024*****\n",
            "Error en el equipo: Atalanta de Bérgamo (800) temporada: 2024: 'NoneType' object has no attribute 'find'\n",
            "*****Equipo: Bolonia - Temporada: 2024*****\n",
            "Error en el equipo: Bolonia (1025) temporada: 2024: 'NoneType' object has no attribute 'find'\n",
            "*****Equipo: AS Roma - Temporada: 2024*****\n",
            "['#', 'Jugadores', 'F. Nacim./Edad', 'Nac.', 'Club actual', 'Altura', 'Pie', 'Fichado', 'antes', 'Valor de mercado', 'Pais', 'Seg nacionalidad']\n",
            "*****Equipo: SS Lazio - Temporada: 2024*****\n",
            "Error en el equipo: SS Lazio (398) temporada: 2024: 'NoneType' object has no attribute 'find'\n",
            "*****Equipo: Fiorentina - Temporada: 2024*****\n",
            "['#', 'Jugadores', 'F. Nacim./Edad', 'Nac.', 'Club actual', 'Altura', 'Pie', 'Fichado', 'antes', 'Valor de mercado', 'Pais', 'Seg nacionalidad']\n",
            "*****Equipo: Torino FC - Temporada: 2024*****\n",
            "Error en el equipo: Torino FC (416) temporada: 2024: 'NoneType' object has no attribute 'find'\n",
            "*****Equipo: SSC Nápoles - Temporada: 2024*****\n",
            "Error en el equipo: SSC Nápoles (6195) temporada: 2024: 'NoneType' object has no attribute 'find'\n",
            "*****Equipo: Génova - Temporada: 2024*****\n",
            "['#', 'Jugadores', 'F. Nacim./Edad', 'Nac.', 'Club actual', 'Altura', 'Pie', 'Fichado', 'antes', 'Valor de mercado', 'Pais', 'Seg nacionalidad']\n",
            "*****Equipo: AC Monza - Temporada: 2024*****\n",
            "['#', 'Jugadores', 'F. Nacim./Edad', 'Nac.', 'Club actual', 'Altura', 'Pie', 'Fichado', 'antes', 'Valor de mercado', 'Pais', 'Seg nacionalidad']\n",
            "*****Equipo: Hellas Verona - Temporada: 2024*****\n",
            "Error en el equipo: Hellas Verona (276) temporada: 2024: 'NoneType' object has no attribute 'find'\n",
            "*****Equipo: US Lecce - Temporada: 2024*****\n",
            "Error en el equipo: US Lecce (1005) temporada: 2024: 'NoneType' object has no attribute 'find'\n",
            "*****Equipo: Udinese - Temporada: 2024*****\n",
            "Error en el equipo: Udinese (410) temporada: 2024: 'NoneType' object has no attribute 'find'\n",
            "*****Equipo: Cagliari - Temporada: 2024*****\n",
            "Error en el equipo: Cagliari (1390) temporada: 2024: 'NoneType' object has no attribute 'find'\n",
            "*****Equipo: Empoli FC - Temporada: 2024*****\n",
            "['#', 'Jugadores', 'F. Nacim./Edad', 'Nac.', 'Club actual', 'Altura', 'Pie', 'Fichado', 'antes', 'Valor de mercado', 'Pais', 'Seg nacionalidad']\n",
            "*****Equipo: Parma - Temporada: 2024*****\n",
            "['#', 'Jugadores', 'F. Nacim./Edad', 'Nac.', 'Club actual', 'Altura', 'Pie', 'Fichado', 'antes', 'Valor de mercado', 'Pais', 'Seg nacionalidad']\n",
            "*****Equipo: Como 1907 - Temporada: 2024*****\n",
            "['#', 'Jugadores', 'F. Nacim./Edad', 'Nac.', 'Club actual', 'Altura', 'Pie', 'Fichado', 'antes', 'Valor de mercado', 'Pais', 'Seg nacionalidad']\n",
            "*****Equipo: Venezia FC - Temporada: 2024*****\n",
            "Error en el equipo: Venezia FC (607) temporada: 2024: 'NoneType' object has no attribute 'find'\n",
            "*****Equipo: París Saint-Germain FC - Temporada: 2024*****\n",
            "Error en el equipo: París Saint-Germain FC (583) temporada: 2024: 'NoneType' object has no attribute 'find'\n",
            "*****Equipo: AS Mónaco - Temporada: 2024*****\n",
            "Error en el equipo: AS Mónaco (162) temporada: 2024: 'NoneType' object has no attribute 'find'\n",
            "*****Equipo: Stade Brestois 29 - Temporada: 2024*****\n",
            "Error en el equipo: Stade Brestois 29 (3911) temporada: 2024: 'NoneType' object has no attribute 'find'\n",
            "*****Equipo: LOSC Lille - Temporada: 2024*****\n",
            "Error en el equipo: LOSC Lille (1082) temporada: 2024: 'NoneType' object has no attribute 'find'\n",
            "*****Equipo: OGC Niza - Temporada: 2024*****\n",
            "Error en el equipo: OGC Niza (417) temporada: 2024: 'NoneType' object has no attribute 'find'\n",
            "*****Equipo: Olympique de Lyon - Temporada: 2024*****\n",
            "['#', 'Jugadores', 'F. Nacim./Edad', 'Nac.', 'Club actual', 'Altura', 'Pie', 'Fichado', 'antes', 'Valor de mercado', 'Pais', 'Seg nacionalidad']\n",
            "*****Equipo: RC Lens - Temporada: 2024*****\n",
            "Error en el equipo: RC Lens (826) temporada: 2024: 'NoneType' object has no attribute 'find'\n",
            "*****Equipo: Olympique de Marsella - Temporada: 2024*****\n",
            "Error en el equipo: Olympique de Marsella (244) temporada: 2024: 'NoneType' object has no attribute 'find'\n",
            "*****Equipo: Stade de Reims - Temporada: 2024*****\n",
            "Error en el equipo: Stade de Reims (1421) temporada: 2024: 'NoneType' object has no attribute 'find'\n",
            "*****Equipo: Stade Rennais FC - Temporada: 2024*****\n",
            "Error en el equipo: Stade Rennais FC (273) temporada: 2024: 'NoneType' object has no attribute 'find'\n",
            "*****Equipo: Toulouse FC - Temporada: 2024*****\n",
            "Error en el equipo: Toulouse FC (415) temporada: 2024: 'NoneType' object has no attribute 'find'\n",
            "*****Equipo: Montpellier HSC - Temporada: 2024*****\n",
            "['#', 'Jugadores', 'F. Nacim./Edad', 'Nac.', 'Club actual', 'Altura', 'Pie', 'Fichado', 'antes', 'Valor de mercado', 'Pais', 'Seg nacionalidad']\n",
            "*****Equipo: Racing Club de Estrasburgo - Temporada: 2024*****\n",
            "Error en el equipo: Racing Club de Estrasburgo (667) temporada: 2024: 'NoneType' object has no attribute 'find'\n",
            "*****Equipo: FC Nantes - Temporada: 2024*****\n",
            "Error en el equipo: FC Nantes (995) temporada: 2024: 'NoneType' object has no attribute 'find'\n",
            "*****Equipo: Le Havre AC - Temporada: 2024*****\n",
            "['#', 'Jugadores', 'F. Nacim./Edad', 'Nac.', 'Club actual', 'Altura', 'Pie', 'Fichado', 'antes', 'Valor de mercado', 'Pais', 'Seg nacionalidad']\n",
            "*****Equipo: AJ Auxerre - Temporada: 2024*****\n",
            "Error en el equipo: AJ Auxerre (290) temporada: 2024: 'NoneType' object has no attribute 'find'\n",
            "*****Equipo: Angers SCO - Temporada: 2024*****\n",
            "Error en el equipo: Angers SCO (1420) temporada: 2024: 'NoneType' object has no attribute 'find'\n",
            "*****Equipo: AS Saint-Étienne - Temporada: 2024*****\n",
            "['#', 'Jugadores', 'F. Nacim./Edad', 'Nac.', 'Club actual', 'Altura', 'Pie', 'Fichado', 'antes', 'Valor de mercado', 'Pais', 'Seg nacionalidad']\n",
            "*****Equipo: Atlético de Madrid - Temporada: 2024*****\n",
            "['#', 'Jugadores', 'F. Nacim./Edad', 'Nac.', 'Club actual', 'Altura', 'Pie', 'Fichado', 'antes', 'Valor de mercado', 'Pais', 'Seg nacionalidad']\n",
            "*****Equipo: FC Barcelona - Temporada: 2024*****\n",
            "Error en el equipo: FC Barcelona (131) temporada: 2024: 'NoneType' object has no attribute 'find'\n",
            "*****Equipo: Real Madrid CF - Temporada: 2024*****\n",
            "Error en el equipo: Real Madrid CF (418) temporada: 2024: 'NoneType' object has no attribute 'find'\n",
            "*****Equipo: Real Betis Balompié - Temporada: 2024*****\n",
            "['#', 'Jugadores', 'F. Nacim./Edad', 'Nac.', 'Club actual', 'Altura', 'Pie', 'Fichado', 'antes', 'Valor de mercado', 'Pais', 'Seg nacionalidad']\n",
            "*****Equipo: Sevilla FC - Temporada: 2024*****\n",
            "Error en el equipo: Sevilla FC (368) temporada: 2024: 'NoneType' object has no attribute 'find'\n",
            "*****Equipo: CA Osasuna - Temporada: 2024*****\n",
            "['#', 'Jugadores', 'F. Nacim./Edad', 'Nac.', 'Club actual', 'Altura', 'Pie', 'Fichado', 'antes', 'Valor de mercado', 'Pais', 'Seg nacionalidad']\n",
            "*****Equipo: Real Sociedad - Temporada: 2024*****\n",
            "['#', 'Jugadores', 'F. Nacim./Edad', 'Nac.', 'Club actual', 'Altura', 'Pie', 'Fichado', 'antes', 'Valor de mercado', 'Pais', 'Seg nacionalidad']\n",
            "*****Equipo: Athletic Club - Temporada: 2024*****\n",
            "Error en el equipo: Athletic Club (621) temporada: 2024: 'NoneType' object has no attribute 'find'\n",
            "*****Equipo: Deportivo Alavés - Temporada: 2024*****\n",
            "['#', 'Jugadores', 'F. Nacim./Edad', 'Nac.', 'Club actual', 'Altura', 'Pie', 'Fichado', 'antes', 'Valor de mercado', 'Pais', 'Seg nacionalidad']\n",
            "*****Equipo: RC Celta de Vigo - Temporada: 2024*****\n",
            "Error en el equipo: RC Celta de Vigo (940) temporada: 2024: 'NoneType' object has no attribute 'find'\n",
            "*****Equipo: Valencia CF - Temporada: 2024*****\n",
            "['#', 'Jugadores', 'F. Nacim./Edad', 'Nac.', 'Club actual', 'Altura', 'Pie', 'Fichado', 'antes', 'Valor de mercado', 'Pais', 'Seg nacionalidad']\n",
            "*****Equipo: Villareal CF - Temporada: 2024*****\n",
            "Error en el equipo: Villareal CF (1050) temporada: 2024: 'NoneType' object has no attribute 'find'\n",
            "*****Equipo: Getafe CF - Temporada: 2024*****\n",
            "Error en el equipo: Getafe CF (3709) temporada: 2024: 'NoneType' object has no attribute 'find'\n",
            "*****Equipo: Rayo Vallecano - Temporada: 2024*****\n",
            "['#', 'Jugadores', 'F. Nacim./Edad', 'Nac.', 'Club actual', 'Altura', 'Pie', 'Fichado', 'antes', 'Valor de mercado', 'Pais', 'Seg nacionalidad']\n",
            "*****Equipo: RCD Mallorca - Temporada: 2024*****\n",
            "['#', 'Jugadores', 'F. Nacim./Edad', 'Nac.', 'Club actual', 'Altura', 'Pie', 'Fichado', 'antes', 'Valor de mercado', 'Pais', 'Seg nacionalidad']\n",
            "*****Equipo: UD Las Palmas - Temporada: 2024*****\n",
            "Error en el equipo: UD Las Palmas (472) temporada: 2024: 'NoneType' object has no attribute 'find'\n",
            "*****Equipo: Girona FC - Temporada: 2024*****\n",
            "Error en el equipo: Girona FC (12321) temporada: 2024: 'NoneType' object has no attribute 'find'\n",
            "*****Equipo: Real Valladolid CF - Temporada: 2024*****\n",
            "['#', 'Jugadores', 'F. Nacim./Edad', 'Nac.', 'Club actual', 'Altura', 'Pie', 'Fichado', 'antes', 'Valor de mercado', 'Pais', 'Seg nacionalidad']\n",
            "*****Equipo: CD Leganés - Temporada: 2024*****\n",
            "Error en el equipo: CD Leganés (1244) temporada: 2024: 'NoneType' object has no attribute 'find'\n",
            "*****Equipo: RCD Espanyol - Temporada: 2024*****\n",
            "['#', 'Jugadores', 'F. Nacim./Edad', 'Nac.', 'Club actual', 'Altura', 'Pie', 'Fichado', 'antes', 'Valor de mercado', 'Pais', 'Seg nacionalidad']\n"
          ]
        }
      ],
      "source": [
        "# Obtenemos la información de las ligas y las temporadas\n",
        "df_final_jugadores = pd.DataFrame()\n",
        "valor_equipo = pd.DataFrame()\n",
        "precio = pd.DataFrame()\n",
        "for i in temporadas:\n",
        "    for j in cinco_grandes_ligas:\n",
        "        print(f\"*****Competición: {j} - Temporada: {i}*****\")\n",
        "\n",
        "        # Obtener jugadores\n",
        "        jugador = jugadores(i, j)\n",
        "        jugador.get_jugadores()\n",
        "        jugador.get_delanteros()\n",
        "        df = jugador.variables_numericas()\n",
        "        df_2 = pd.DataFrame(df)\n",
        "        df_final_jugadores = pd.concat([df_final_jugadores, df_2], axis=0)\n",
        "\n",
        "        \n",
        "\n",
        "        # Obtener precios de jugadores por equipo\n",
        "    for k in Equipos_id.keys():\n",
        "        print(f\"*****Equipo: {k} - Temporada: {i[5:]}*****\")\n",
        "        precio_jugador = Precios_jugadores(i[5:], k, Equipos_id[k])\n",
        "        valor_equipo = pd.concat([valor_equipo, precio_jugador.get_precio()], axis=0)\n",
        "\n",
        "  # Limpiar y unir los datos\n",
        "    precio = limpiar_data(valor_equipo)\n",
        "\n",
        "  # Asegúrate de que estas columnas existen en ambos DataFrames\n",
        "  #columnas_union = [\"Player\"]  # Ajusta si se llaman diferente\n",
        "\n",
        "    df_final_precios = pd.merge(df_final_jugadores, precio, on=[\"Player\"], how=\"inner\")\n"
      ]
    },
    {
      "cell_type": "code",
      "execution_count": 18,
      "metadata": {
        "colab": {
          "base_uri": "https://localhost:8080/",
          "height": 276
        },
        "id": "1jmNLi9S5ehH",
        "outputId": "ea2ac95a-75d5-400d-b0be-1bbe5c839846"
      },
      "outputs": [
        {
          "data": {
            "application/vnd.microsoft.datawrangler.viewer.v0+json": {
              "columns": [
                {
                  "name": "index",
                  "rawType": "int64",
                  "type": "integer"
                },
                {
                  "name": "Player",
                  "rawType": "object",
                  "type": "string"
                },
                {
                  "name": "Squad",
                  "rawType": "object",
                  "type": "string"
                },
                {
                  "name": "Age",
                  "rawType": "float64",
                  "type": "float"
                },
                {
                  "name": "Born",
                  "rawType": "float64",
                  "type": "float"
                },
                {
                  "name": "90s",
                  "rawType": "float64",
                  "type": "float"
                },
                {
                  "name": "SCA",
                  "rawType": "float64",
                  "type": "float"
                },
                {
                  "name": "SCA90",
                  "rawType": "float64",
                  "type": "float"
                },
                {
                  "name": "PassLive",
                  "rawType": "float64",
                  "type": "float"
                },
                {
                  "name": "PassDead",
                  "rawType": "float64",
                  "type": "float"
                },
                {
                  "name": "TO",
                  "rawType": "float64",
                  "type": "float"
                },
                {
                  "name": "Sh",
                  "rawType": "float64",
                  "type": "float"
                },
                {
                  "name": "Fld",
                  "rawType": "float64",
                  "type": "float"
                },
                {
                  "name": "Def",
                  "rawType": "float64",
                  "type": "float"
                },
                {
                  "name": "GCA",
                  "rawType": "float64",
                  "type": "float"
                },
                {
                  "name": "GCA90",
                  "rawType": "float64",
                  "type": "float"
                },
                {
                  "name": "PassLive",
                  "rawType": "float64",
                  "type": "float"
                },
                {
                  "name": "PassDead",
                  "rawType": "float64",
                  "type": "float"
                },
                {
                  "name": "TO",
                  "rawType": "float64",
                  "type": "float"
                },
                {
                  "name": "Sh",
                  "rawType": "float64",
                  "type": "float"
                },
                {
                  "name": "Fld",
                  "rawType": "float64",
                  "type": "float"
                },
                {
                  "name": "Def",
                  "rawType": "float64",
                  "type": "float"
                },
                {
                  "name": "Altura",
                  "rawType": "object",
                  "type": "string"
                },
                {
                  "name": "Pie",
                  "rawType": "object",
                  "type": "string"
                },
                {
                  "name": "Valor de mercado",
                  "rawType": "object",
                  "type": "string"
                }
              ],
              "ref": "d7f81261-7ac4-4213-95ad-020b8645e5ba",
              "rows": [
                [
                  "0",
                  "Naouirou Ahamada",
                  "Crystal Palace",
                  "21.0",
                  "2002.0",
                  "3.9",
                  "9.0",
                  "2.3",
                  "9.0",
                  "0.0",
                  "0.0",
                  "0.0",
                  "0.0",
                  "0.0",
                  "3.0",
                  "0.77",
                  "3.0",
                  "0.0",
                  "0.0",
                  "0.0",
                  "0.0",
                  "0.0",
                  "1,83m",
                  "Derecho",
                  "8,00 mill. €"
                ],
                [
                  "1",
                  "Julian Alvarez",
                  "Manchester City",
                  "23.0",
                  "2000.0",
                  "29.4",
                  "118.0",
                  "4.01",
                  "74.0",
                  "28.0",
                  "4.0",
                  "10.0",
                  "2.0",
                  "0.0",
                  "15.0",
                  "0.51",
                  "12.0",
                  "1.0",
                  "0.0",
                  "0.0",
                  "2.0",
                  "0.0",
                  "1,70m",
                  "Derecho",
                  "90,00 mill. €"
                ],
                [
                  "2",
                  "Jaidon Anthony",
                  "Bournemouth",
                  "23.0",
                  "1999.0",
                  "1.7",
                  "3.0",
                  "1.78",
                  "2.0",
                  "0.0",
                  "1.0",
                  "0.0",
                  "0.0",
                  "0.0",
                  "0.0",
                  "0.0",
                  "0.0",
                  "0.0",
                  "0.0",
                  "0.0",
                  "0.0",
                  "0.0",
                  "1,83m",
                  "Derecho",
                  "6,00 mill. €"
                ],
                [
                  "3",
                  "Cameron Archer",
                  "Sheffield Utd",
                  "22.0",
                  "2001.0",
                  "20.4",
                  "49.0",
                  "2.41",
                  "32.0",
                  "0.0",
                  "9.0",
                  "5.0",
                  "1.0",
                  "2.0",
                  "4.0",
                  "0.2",
                  "2.0",
                  "0.0",
                  "1.0",
                  "1.0",
                  "0.0",
                  "0.0",
                  "1,75m",
                  "Derecho",
                  "13,00 mill. €"
                ],
                [
                  "4",
                  "Jordan Ayew",
                  "Crystal Palace",
                  "31.0",
                  "1991.0",
                  "28.3",
                  "72.0",
                  "2.55",
                  "40.0",
                  "5.0",
                  "5.0",
                  "7.0",
                  "12.0",
                  "3.0",
                  "12.0",
                  "0.42",
                  "10.0",
                  "0.0",
                  "1.0",
                  "0.0",
                  "1.0",
                  "0.0",
                  "1,82m",
                  "Derecho",
                  "4,00 mill. €"
                ]
              ],
              "shape": {
                "columns": 24,
                "rows": 5
              }
            },
            "text/html": [
              "<div>\n",
              "<style scoped>\n",
              "    .dataframe tbody tr th:only-of-type {\n",
              "        vertical-align: middle;\n",
              "    }\n",
              "\n",
              "    .dataframe tbody tr th {\n",
              "        vertical-align: top;\n",
              "    }\n",
              "\n",
              "    .dataframe thead th {\n",
              "        text-align: right;\n",
              "    }\n",
              "</style>\n",
              "<table border=\"1\" class=\"dataframe\">\n",
              "  <thead>\n",
              "    <tr style=\"text-align: right;\">\n",
              "      <th></th>\n",
              "      <th>Player</th>\n",
              "      <th>Squad</th>\n",
              "      <th>Age</th>\n",
              "      <th>Born</th>\n",
              "      <th>90s</th>\n",
              "      <th>SCA</th>\n",
              "      <th>SCA90</th>\n",
              "      <th>PassLive</th>\n",
              "      <th>PassDead</th>\n",
              "      <th>TO</th>\n",
              "      <th>Sh</th>\n",
              "      <th>Fld</th>\n",
              "      <th>Def</th>\n",
              "      <th>GCA</th>\n",
              "      <th>GCA90</th>\n",
              "      <th>PassLive</th>\n",
              "      <th>PassDead</th>\n",
              "      <th>TO</th>\n",
              "      <th>Sh</th>\n",
              "      <th>Fld</th>\n",
              "      <th>Def</th>\n",
              "      <th>Altura</th>\n",
              "      <th>Pie</th>\n",
              "      <th>Valor de mercado</th>\n",
              "    </tr>\n",
              "  </thead>\n",
              "  <tbody>\n",
              "    <tr>\n",
              "      <th>0</th>\n",
              "      <td>Naouirou Ahamada</td>\n",
              "      <td>Crystal Palace</td>\n",
              "      <td>21.0</td>\n",
              "      <td>2002.0</td>\n",
              "      <td>3.9</td>\n",
              "      <td>9.0</td>\n",
              "      <td>2.30</td>\n",
              "      <td>9.0</td>\n",
              "      <td>0.0</td>\n",
              "      <td>0.0</td>\n",
              "      <td>0.0</td>\n",
              "      <td>0.0</td>\n",
              "      <td>0.0</td>\n",
              "      <td>3.0</td>\n",
              "      <td>0.77</td>\n",
              "      <td>3.0</td>\n",
              "      <td>0.0</td>\n",
              "      <td>0.0</td>\n",
              "      <td>0.0</td>\n",
              "      <td>0.0</td>\n",
              "      <td>0.0</td>\n",
              "      <td>1,83m</td>\n",
              "      <td>Derecho</td>\n",
              "      <td>8,00 mill. €</td>\n",
              "    </tr>\n",
              "    <tr>\n",
              "      <th>1</th>\n",
              "      <td>Julian Alvarez</td>\n",
              "      <td>Manchester City</td>\n",
              "      <td>23.0</td>\n",
              "      <td>2000.0</td>\n",
              "      <td>29.4</td>\n",
              "      <td>118.0</td>\n",
              "      <td>4.01</td>\n",
              "      <td>74.0</td>\n",
              "      <td>28.0</td>\n",
              "      <td>4.0</td>\n",
              "      <td>10.0</td>\n",
              "      <td>2.0</td>\n",
              "      <td>0.0</td>\n",
              "      <td>15.0</td>\n",
              "      <td>0.51</td>\n",
              "      <td>12.0</td>\n",
              "      <td>1.0</td>\n",
              "      <td>0.0</td>\n",
              "      <td>0.0</td>\n",
              "      <td>2.0</td>\n",
              "      <td>0.0</td>\n",
              "      <td>1,70m</td>\n",
              "      <td>Derecho</td>\n",
              "      <td>90,00 mill. €</td>\n",
              "    </tr>\n",
              "    <tr>\n",
              "      <th>2</th>\n",
              "      <td>Jaidon Anthony</td>\n",
              "      <td>Bournemouth</td>\n",
              "      <td>23.0</td>\n",
              "      <td>1999.0</td>\n",
              "      <td>1.7</td>\n",
              "      <td>3.0</td>\n",
              "      <td>1.78</td>\n",
              "      <td>2.0</td>\n",
              "      <td>0.0</td>\n",
              "      <td>1.0</td>\n",
              "      <td>0.0</td>\n",
              "      <td>0.0</td>\n",
              "      <td>0.0</td>\n",
              "      <td>0.0</td>\n",
              "      <td>0.00</td>\n",
              "      <td>0.0</td>\n",
              "      <td>0.0</td>\n",
              "      <td>0.0</td>\n",
              "      <td>0.0</td>\n",
              "      <td>0.0</td>\n",
              "      <td>0.0</td>\n",
              "      <td>1,83m</td>\n",
              "      <td>Derecho</td>\n",
              "      <td>6,00 mill. €</td>\n",
              "    </tr>\n",
              "    <tr>\n",
              "      <th>3</th>\n",
              "      <td>Cameron Archer</td>\n",
              "      <td>Sheffield Utd</td>\n",
              "      <td>22.0</td>\n",
              "      <td>2001.0</td>\n",
              "      <td>20.4</td>\n",
              "      <td>49.0</td>\n",
              "      <td>2.41</td>\n",
              "      <td>32.0</td>\n",
              "      <td>0.0</td>\n",
              "      <td>9.0</td>\n",
              "      <td>5.0</td>\n",
              "      <td>1.0</td>\n",
              "      <td>2.0</td>\n",
              "      <td>4.0</td>\n",
              "      <td>0.20</td>\n",
              "      <td>2.0</td>\n",
              "      <td>0.0</td>\n",
              "      <td>1.0</td>\n",
              "      <td>1.0</td>\n",
              "      <td>0.0</td>\n",
              "      <td>0.0</td>\n",
              "      <td>1,75m</td>\n",
              "      <td>Derecho</td>\n",
              "      <td>13,00 mill. €</td>\n",
              "    </tr>\n",
              "    <tr>\n",
              "      <th>4</th>\n",
              "      <td>Jordan Ayew</td>\n",
              "      <td>Crystal Palace</td>\n",
              "      <td>31.0</td>\n",
              "      <td>1991.0</td>\n",
              "      <td>28.3</td>\n",
              "      <td>72.0</td>\n",
              "      <td>2.55</td>\n",
              "      <td>40.0</td>\n",
              "      <td>5.0</td>\n",
              "      <td>5.0</td>\n",
              "      <td>7.0</td>\n",
              "      <td>12.0</td>\n",
              "      <td>3.0</td>\n",
              "      <td>12.0</td>\n",
              "      <td>0.42</td>\n",
              "      <td>10.0</td>\n",
              "      <td>0.0</td>\n",
              "      <td>1.0</td>\n",
              "      <td>0.0</td>\n",
              "      <td>1.0</td>\n",
              "      <td>0.0</td>\n",
              "      <td>1,82m</td>\n",
              "      <td>Derecho</td>\n",
              "      <td>4,00 mill. €</td>\n",
              "    </tr>\n",
              "  </tbody>\n",
              "</table>\n",
              "</div>"
            ],
            "text/plain": [
              "             Player            Squad   Age    Born   90s    SCA  SCA90  \\\n",
              "0  Naouirou Ahamada   Crystal Palace  21.0  2002.0   3.9    9.0   2.30   \n",
              "1    Julian Alvarez  Manchester City  23.0  2000.0  29.4  118.0   4.01   \n",
              "2    Jaidon Anthony      Bournemouth  23.0  1999.0   1.7    3.0   1.78   \n",
              "3    Cameron Archer    Sheffield Utd  22.0  2001.0  20.4   49.0   2.41   \n",
              "4       Jordan Ayew   Crystal Palace  31.0  1991.0  28.3   72.0   2.55   \n",
              "\n",
              "   PassLive  PassDead   TO    Sh   Fld  Def   GCA  GCA90  PassLive  PassDead  \\\n",
              "0       9.0       0.0  0.0   0.0   0.0  0.0   3.0   0.77       3.0       0.0   \n",
              "1      74.0      28.0  4.0  10.0   2.0  0.0  15.0   0.51      12.0       1.0   \n",
              "2       2.0       0.0  1.0   0.0   0.0  0.0   0.0   0.00       0.0       0.0   \n",
              "3      32.0       0.0  9.0   5.0   1.0  2.0   4.0   0.20       2.0       0.0   \n",
              "4      40.0       5.0  5.0   7.0  12.0  3.0  12.0   0.42      10.0       0.0   \n",
              "\n",
              "    TO   Sh  Fld  Def Altura      Pie Valor de mercado  \n",
              "0  0.0  0.0  0.0  0.0  1,83m  Derecho     8,00 mill. €  \n",
              "1  0.0  0.0  2.0  0.0  1,70m  Derecho    90,00 mill. €  \n",
              "2  0.0  0.0  0.0  0.0  1,83m  Derecho     6,00 mill. €  \n",
              "3  1.0  1.0  0.0  0.0  1,75m  Derecho    13,00 mill. €  \n",
              "4  1.0  0.0  1.0  0.0  1,82m  Derecho     4,00 mill. €  "
            ]
          },
          "execution_count": 18,
          "metadata": {},
          "output_type": "execute_result"
        }
      ],
      "source": [
        "df_final_precios.head()"
      ]
    },
    {
      "cell_type": "code",
      "execution_count": 19,
      "metadata": {
        "colab": {
          "base_uri": "https://localhost:8080/",
          "height": 276
        },
        "id": "90MtuJxTGRDb",
        "outputId": "a12b922f-725c-45ee-bda7-2d8d39c83d14"
      },
      "outputs": [
        {
          "data": {
            "application/vnd.microsoft.datawrangler.viewer.v0+json": {
              "columns": [
                {
                  "name": "index",
                  "rawType": "int64",
                  "type": "integer"
                },
                {
                  "name": "Player",
                  "rawType": "object",
                  "type": "string"
                },
                {
                  "name": "Squad",
                  "rawType": "object",
                  "type": "string"
                },
                {
                  "name": "Age",
                  "rawType": "float64",
                  "type": "float"
                },
                {
                  "name": "Born",
                  "rawType": "float64",
                  "type": "float"
                },
                {
                  "name": "90s",
                  "rawType": "float64",
                  "type": "float"
                },
                {
                  "name": "SCA",
                  "rawType": "float64",
                  "type": "float"
                },
                {
                  "name": "SCA90",
                  "rawType": "float64",
                  "type": "float"
                },
                {
                  "name": "PassLive",
                  "rawType": "float64",
                  "type": "float"
                },
                {
                  "name": "PassDead",
                  "rawType": "float64",
                  "type": "float"
                },
                {
                  "name": "TO",
                  "rawType": "float64",
                  "type": "float"
                },
                {
                  "name": "Sh",
                  "rawType": "float64",
                  "type": "float"
                },
                {
                  "name": "Fld",
                  "rawType": "float64",
                  "type": "float"
                },
                {
                  "name": "Def",
                  "rawType": "float64",
                  "type": "float"
                },
                {
                  "name": "GCA",
                  "rawType": "float64",
                  "type": "float"
                },
                {
                  "name": "GCA90",
                  "rawType": "float64",
                  "type": "float"
                },
                {
                  "name": "PassLive",
                  "rawType": "float64",
                  "type": "float"
                },
                {
                  "name": "PassDead",
                  "rawType": "float64",
                  "type": "float"
                },
                {
                  "name": "TO",
                  "rawType": "float64",
                  "type": "float"
                },
                {
                  "name": "Sh",
                  "rawType": "float64",
                  "type": "float"
                },
                {
                  "name": "Fld",
                  "rawType": "float64",
                  "type": "float"
                },
                {
                  "name": "Def",
                  "rawType": "float64",
                  "type": "float"
                },
                {
                  "name": "Altura",
                  "rawType": "object",
                  "type": "string"
                },
                {
                  "name": "Pie",
                  "rawType": "object",
                  "type": "string"
                },
                {
                  "name": "Valor de mercado",
                  "rawType": "object",
                  "type": "string"
                }
              ],
              "ref": "28656104-dc3c-4c31-8200-0a4b85cda8c1",
              "rows": [
                [
                  "0",
                  "Naouirou Ahamada",
                  "Crystal Palace",
                  "21.0",
                  "2002.0",
                  "3.9",
                  "9.0",
                  "2.3",
                  "9.0",
                  "0.0",
                  "0.0",
                  "0.0",
                  "0.0",
                  "0.0",
                  "3.0",
                  "0.77",
                  "3.0",
                  "0.0",
                  "0.0",
                  "0.0",
                  "0.0",
                  "0.0",
                  "1,83m",
                  "Derecho",
                  "8.00 "
                ],
                [
                  "1",
                  "Julian Alvarez",
                  "Manchester City",
                  "23.0",
                  "2000.0",
                  "29.4",
                  "118.0",
                  "4.01",
                  "74.0",
                  "28.0",
                  "4.0",
                  "10.0",
                  "2.0",
                  "0.0",
                  "15.0",
                  "0.51",
                  "12.0",
                  "1.0",
                  "0.0",
                  "0.0",
                  "2.0",
                  "0.0",
                  "1,70m",
                  "Derecho",
                  "90.00 "
                ],
                [
                  "2",
                  "Jaidon Anthony",
                  "Bournemouth",
                  "23.0",
                  "1999.0",
                  "1.7",
                  "3.0",
                  "1.78",
                  "2.0",
                  "0.0",
                  "1.0",
                  "0.0",
                  "0.0",
                  "0.0",
                  "0.0",
                  "0.0",
                  "0.0",
                  "0.0",
                  "0.0",
                  "0.0",
                  "0.0",
                  "0.0",
                  "1,83m",
                  "Derecho",
                  "6.00 "
                ],
                [
                  "3",
                  "Cameron Archer",
                  "Sheffield Utd",
                  "22.0",
                  "2001.0",
                  "20.4",
                  "49.0",
                  "2.41",
                  "32.0",
                  "0.0",
                  "9.0",
                  "5.0",
                  "1.0",
                  "2.0",
                  "4.0",
                  "0.2",
                  "2.0",
                  "0.0",
                  "1.0",
                  "1.0",
                  "0.0",
                  "0.0",
                  "1,75m",
                  "Derecho",
                  "13.00 "
                ],
                [
                  "4",
                  "Jordan Ayew",
                  "Crystal Palace",
                  "31.0",
                  "1991.0",
                  "28.3",
                  "72.0",
                  "2.55",
                  "40.0",
                  "5.0",
                  "5.0",
                  "7.0",
                  "12.0",
                  "3.0",
                  "12.0",
                  "0.42",
                  "10.0",
                  "0.0",
                  "1.0",
                  "0.0",
                  "1.0",
                  "0.0",
                  "1,82m",
                  "Derecho",
                  "4.00 "
                ]
              ],
              "shape": {
                "columns": 24,
                "rows": 5
              }
            },
            "text/html": [
              "<div>\n",
              "<style scoped>\n",
              "    .dataframe tbody tr th:only-of-type {\n",
              "        vertical-align: middle;\n",
              "    }\n",
              "\n",
              "    .dataframe tbody tr th {\n",
              "        vertical-align: top;\n",
              "    }\n",
              "\n",
              "    .dataframe thead th {\n",
              "        text-align: right;\n",
              "    }\n",
              "</style>\n",
              "<table border=\"1\" class=\"dataframe\">\n",
              "  <thead>\n",
              "    <tr style=\"text-align: right;\">\n",
              "      <th></th>\n",
              "      <th>Player</th>\n",
              "      <th>Squad</th>\n",
              "      <th>Age</th>\n",
              "      <th>Born</th>\n",
              "      <th>90s</th>\n",
              "      <th>SCA</th>\n",
              "      <th>SCA90</th>\n",
              "      <th>PassLive</th>\n",
              "      <th>PassDead</th>\n",
              "      <th>TO</th>\n",
              "      <th>Sh</th>\n",
              "      <th>Fld</th>\n",
              "      <th>Def</th>\n",
              "      <th>GCA</th>\n",
              "      <th>GCA90</th>\n",
              "      <th>PassLive</th>\n",
              "      <th>PassDead</th>\n",
              "      <th>TO</th>\n",
              "      <th>Sh</th>\n",
              "      <th>Fld</th>\n",
              "      <th>Def</th>\n",
              "      <th>Altura</th>\n",
              "      <th>Pie</th>\n",
              "      <th>Valor de mercado</th>\n",
              "    </tr>\n",
              "  </thead>\n",
              "  <tbody>\n",
              "    <tr>\n",
              "      <th>0</th>\n",
              "      <td>Naouirou Ahamada</td>\n",
              "      <td>Crystal Palace</td>\n",
              "      <td>21.0</td>\n",
              "      <td>2002.0</td>\n",
              "      <td>3.9</td>\n",
              "      <td>9.0</td>\n",
              "      <td>2.30</td>\n",
              "      <td>9.0</td>\n",
              "      <td>0.0</td>\n",
              "      <td>0.0</td>\n",
              "      <td>0.0</td>\n",
              "      <td>0.0</td>\n",
              "      <td>0.0</td>\n",
              "      <td>3.0</td>\n",
              "      <td>0.77</td>\n",
              "      <td>3.0</td>\n",
              "      <td>0.0</td>\n",
              "      <td>0.0</td>\n",
              "      <td>0.0</td>\n",
              "      <td>0.0</td>\n",
              "      <td>0.0</td>\n",
              "      <td>1,83m</td>\n",
              "      <td>Derecho</td>\n",
              "      <td>8.00</td>\n",
              "    </tr>\n",
              "    <tr>\n",
              "      <th>1</th>\n",
              "      <td>Julian Alvarez</td>\n",
              "      <td>Manchester City</td>\n",
              "      <td>23.0</td>\n",
              "      <td>2000.0</td>\n",
              "      <td>29.4</td>\n",
              "      <td>118.0</td>\n",
              "      <td>4.01</td>\n",
              "      <td>74.0</td>\n",
              "      <td>28.0</td>\n",
              "      <td>4.0</td>\n",
              "      <td>10.0</td>\n",
              "      <td>2.0</td>\n",
              "      <td>0.0</td>\n",
              "      <td>15.0</td>\n",
              "      <td>0.51</td>\n",
              "      <td>12.0</td>\n",
              "      <td>1.0</td>\n",
              "      <td>0.0</td>\n",
              "      <td>0.0</td>\n",
              "      <td>2.0</td>\n",
              "      <td>0.0</td>\n",
              "      <td>1,70m</td>\n",
              "      <td>Derecho</td>\n",
              "      <td>90.00</td>\n",
              "    </tr>\n",
              "    <tr>\n",
              "      <th>2</th>\n",
              "      <td>Jaidon Anthony</td>\n",
              "      <td>Bournemouth</td>\n",
              "      <td>23.0</td>\n",
              "      <td>1999.0</td>\n",
              "      <td>1.7</td>\n",
              "      <td>3.0</td>\n",
              "      <td>1.78</td>\n",
              "      <td>2.0</td>\n",
              "      <td>0.0</td>\n",
              "      <td>1.0</td>\n",
              "      <td>0.0</td>\n",
              "      <td>0.0</td>\n",
              "      <td>0.0</td>\n",
              "      <td>0.0</td>\n",
              "      <td>0.00</td>\n",
              "      <td>0.0</td>\n",
              "      <td>0.0</td>\n",
              "      <td>0.0</td>\n",
              "      <td>0.0</td>\n",
              "      <td>0.0</td>\n",
              "      <td>0.0</td>\n",
              "      <td>1,83m</td>\n",
              "      <td>Derecho</td>\n",
              "      <td>6.00</td>\n",
              "    </tr>\n",
              "    <tr>\n",
              "      <th>3</th>\n",
              "      <td>Cameron Archer</td>\n",
              "      <td>Sheffield Utd</td>\n",
              "      <td>22.0</td>\n",
              "      <td>2001.0</td>\n",
              "      <td>20.4</td>\n",
              "      <td>49.0</td>\n",
              "      <td>2.41</td>\n",
              "      <td>32.0</td>\n",
              "      <td>0.0</td>\n",
              "      <td>9.0</td>\n",
              "      <td>5.0</td>\n",
              "      <td>1.0</td>\n",
              "      <td>2.0</td>\n",
              "      <td>4.0</td>\n",
              "      <td>0.20</td>\n",
              "      <td>2.0</td>\n",
              "      <td>0.0</td>\n",
              "      <td>1.0</td>\n",
              "      <td>1.0</td>\n",
              "      <td>0.0</td>\n",
              "      <td>0.0</td>\n",
              "      <td>1,75m</td>\n",
              "      <td>Derecho</td>\n",
              "      <td>13.00</td>\n",
              "    </tr>\n",
              "    <tr>\n",
              "      <th>4</th>\n",
              "      <td>Jordan Ayew</td>\n",
              "      <td>Crystal Palace</td>\n",
              "      <td>31.0</td>\n",
              "      <td>1991.0</td>\n",
              "      <td>28.3</td>\n",
              "      <td>72.0</td>\n",
              "      <td>2.55</td>\n",
              "      <td>40.0</td>\n",
              "      <td>5.0</td>\n",
              "      <td>5.0</td>\n",
              "      <td>7.0</td>\n",
              "      <td>12.0</td>\n",
              "      <td>3.0</td>\n",
              "      <td>12.0</td>\n",
              "      <td>0.42</td>\n",
              "      <td>10.0</td>\n",
              "      <td>0.0</td>\n",
              "      <td>1.0</td>\n",
              "      <td>0.0</td>\n",
              "      <td>1.0</td>\n",
              "      <td>0.0</td>\n",
              "      <td>1,82m</td>\n",
              "      <td>Derecho</td>\n",
              "      <td>4.00</td>\n",
              "    </tr>\n",
              "  </tbody>\n",
              "</table>\n",
              "</div>"
            ],
            "text/plain": [
              "             Player            Squad   Age    Born   90s    SCA  SCA90  \\\n",
              "0  Naouirou Ahamada   Crystal Palace  21.0  2002.0   3.9    9.0   2.30   \n",
              "1    Julian Alvarez  Manchester City  23.0  2000.0  29.4  118.0   4.01   \n",
              "2    Jaidon Anthony      Bournemouth  23.0  1999.0   1.7    3.0   1.78   \n",
              "3    Cameron Archer    Sheffield Utd  22.0  2001.0  20.4   49.0   2.41   \n",
              "4       Jordan Ayew   Crystal Palace  31.0  1991.0  28.3   72.0   2.55   \n",
              "\n",
              "   PassLive  PassDead   TO    Sh   Fld  Def   GCA  GCA90  PassLive  PassDead  \\\n",
              "0       9.0       0.0  0.0   0.0   0.0  0.0   3.0   0.77       3.0       0.0   \n",
              "1      74.0      28.0  4.0  10.0   2.0  0.0  15.0   0.51      12.0       1.0   \n",
              "2       2.0       0.0  1.0   0.0   0.0  0.0   0.0   0.00       0.0       0.0   \n",
              "3      32.0       0.0  9.0   5.0   1.0  2.0   4.0   0.20       2.0       0.0   \n",
              "4      40.0       5.0  5.0   7.0  12.0  3.0  12.0   0.42      10.0       0.0   \n",
              "\n",
              "    TO   Sh  Fld  Def Altura      Pie Valor de mercado  \n",
              "0  0.0  0.0  0.0  0.0  1,83m  Derecho            8.00   \n",
              "1  0.0  0.0  2.0  0.0  1,70m  Derecho           90.00   \n",
              "2  0.0  0.0  0.0  0.0  1,83m  Derecho            6.00   \n",
              "3  1.0  1.0  0.0  0.0  1,75m  Derecho           13.00   \n",
              "4  1.0  0.0  1.0  0.0  1,82m  Derecho            4.00   "
            ]
          },
          "execution_count": 19,
          "metadata": {},
          "output_type": "execute_result"
        }
      ],
      "source": [
        "df_final_precios_limp = limpiar_data_2(df_final_precios)\n",
        "df_final_precios_limp.head()"
      ]
    },
    {
      "cell_type": "code",
      "execution_count": 20,
      "metadata": {
        "colab": {
          "base_uri": "https://localhost:8080/"
        },
        "id": "JbHFkCpBVhzI",
        "outputId": "7f0f96a8-475f-4c02-cefc-4a9003c045d0"
      },
      "outputs": [
        {
          "data": {
            "text/plain": [
              "(337, 24)"
            ]
          },
          "execution_count": 20,
          "metadata": {},
          "output_type": "execute_result"
        }
      ],
      "source": [
        "df_final_precios_limp.shape"
      ]
    },
    {
      "cell_type": "code",
      "execution_count": 21,
      "metadata": {
        "id": "3X7JSbQ7LiU8"
      },
      "outputs": [],
      "source": [
        "df_final_precios_limp.to_csv(\"df_final_precios_limpios.csv\", index = False)"
      ]
    }
  ],
  "metadata": {
    "colab": {
      "provenance": []
    },
    "kernelspec": {
      "display_name": "base",
      "language": "python",
      "name": "python3"
    },
    "language_info": {
      "codemirror_mode": {
        "name": "ipython",
        "version": 3
      },
      "file_extension": ".py",
      "mimetype": "text/x-python",
      "name": "python",
      "nbconvert_exporter": "python",
      "pygments_lexer": "ipython3",
      "version": "3.12.7"
    }
  },
  "nbformat": 4,
  "nbformat_minor": 0
}
